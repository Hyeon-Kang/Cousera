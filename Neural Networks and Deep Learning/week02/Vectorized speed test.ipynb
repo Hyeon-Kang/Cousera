{
 "cells": [
  {
   "cell_type": "code",
   "execution_count": 2,
   "metadata": {},
   "outputs": [
    {
     "name": "stdout",
     "output_type": "stream",
     "text": [
      "[1 2 3 4]\n"
     ]
    }
   ],
   "source": [
    "import numpy as np\n",
    "\n",
    "a = np.array([1,2,3,4])\n",
    "print(a)"
   ]
  },
  {
   "cell_type": "code",
   "execution_count": 28,
   "metadata": {},
   "outputs": [
    {
     "name": "stdout",
     "output_type": "stream",
     "text": [
      "Vectorized version: 1.0268688201904297\n",
      "\n",
      "Non Vectorized version\n",
      "For loop: 59.000253677368164ms\n"
     ]
    }
   ],
   "source": [
    "#vectorization demo\n",
    "\n",
    "import time # 운영 시간 체크\n",
    "\n",
    "a = np.random.rand(1000000)\n",
    "b = np.random.rand(1000000)\n",
    "\n",
    "tic = time.time() # 현재시간 측정\n",
    "c = np.dot(a,b) # a transepose * b\n",
    "toc = time.time()\n",
    "\n",
    "print(\"Vectorized version: \" + str(1000*(toc-tic)) ) # 앞 뒤 측정시간으로 걸린 시간 계측\n",
    "\n",
    "\n",
    "# non vectorization version\n",
    "\n",
    "c = 0\n",
    "tic = time.time()\n",
    "for i in range(100000):\n",
    "    c += a[i]*b[i]\n",
    "toc = time.time()\n",
    "\n",
    "print()\n",
    "print(\"Non Vectorized version\")\n",
    "print(\"For loop: \" + str(1000*(toc-tic)) + \"ms\")\n",
    "\n",
    "\n",
    "# 차이가 이렇게 심하다!"
   ]
  },
  {
   "cell_type": "code",
   "execution_count": null,
   "metadata": {},
   "outputs": [],
   "source": []
  }
 ],
 "metadata": {
  "kernelspec": {
   "display_name": "Python 3",
   "language": "python",
   "name": "python3"
  },
  "language_info": {
   "codemirror_mode": {
    "name": "ipython",
    "version": 3
   },
   "file_extension": ".py",
   "mimetype": "text/x-python",
   "name": "python",
   "nbconvert_exporter": "python",
   "pygments_lexer": "ipython3",
   "version": "3.6.8"
  }
 },
 "nbformat": 4,
 "nbformat_minor": 4
}
